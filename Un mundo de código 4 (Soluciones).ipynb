{
 "cells": [
  {
   "cell_type": "markdown",
   "metadata": {},
   "source": [
    "# Un mundo de código 4"
   ]
  },
  {
   "cell_type": "markdown",
   "metadata": {},
   "source": [
    "1.- Escribir una función que reciba una tupla de elementos e indique si se encuentran ordenados de menor a mayor o no."
   ]
  },
  {
   "cell_type": "code",
   "execution_count": 17,
   "metadata": {
    "collapsed": false
   },
   "outputs": [],
   "source": [
    "#pylint: disable = I0011, c0103\n",
    "\"\"\" DocString\n",
    "\"\"\"\n",
    "\n",
    "def test_sorted(tupla):\n",
    "    \"\"\"\n",
    "1.- Escribir una función que reciba una tupla de elementos e indique si se\n",
    "encuentran ordenados de menor a mayor o no.\n",
    "    \"\"\"\n",
    "    if tupla == ():\n",
    "        return -1\n",
    "    previous = tupla[0]\n",
    "    for item in tupla:\n",
    "        if previous <= item:\n",
    "            previous = item\n",
    "        else:\n",
    "            return False\n",
    "    return True\n"
   ]
  },
  {
   "cell_type": "code",
   "execution_count": 18,
   "metadata": {
    "collapsed": false
   },
   "outputs": [
    {
     "name": "stdout",
     "output_type": "stream",
     "text": [
      "True\n",
      "False\n",
      "-1\n",
      "True\n"
     ]
    }
   ],
   "source": [
    "tupla1 = (1,2,3,4,5,6,6,7,8,9,10)\n",
    "tupla2 = (1,2,3,5,4,6,7,8,9,10)\n",
    "tupla3 = ()\n",
    "tupla4 = (5,)\n",
    "print(test_sorted(tupla1))\n",
    "print(test_sorted(tupla2))\n",
    "print(test_sorted(tupla3))\n",
    "print(test_sorted(tupla4))"
   ]
  },
  {
   "cell_type": "markdown",
   "metadata": {},
   "source": [
    "2.- Dominó."
   ]
  },
  {
   "cell_type": "markdown",
   "metadata": {},
   "source": [
    "a) Escribir una función que indique si dos fichas de dominó encajan o no. Las fichas son recibidas en dos tuplas, por ejemplo: (3,4) y (5,4)."
   ]
  },
  {
   "cell_type": "code",
   "execution_count": 7,
   "metadata": {
    "collapsed": false
   },
   "outputs": [],
   "source": [
    "#pylint: disable = I0011, c0103\n",
    "\"\"\" DocString\n",
    "\"\"\"\n",
    "\n",
    "def domino_1(token_1, token_2):\n",
    "    \"\"\"\n",
    "a) Escribir una función que indique si dos fichas de dominó encajan o no.\n",
    "Las fichas son recibidas en dos tuplas, por ejemplo: (3,4) y (5,4).\n",
    "    \"\"\"\n",
    "    return (token_1[0] == token_2[0] or token_1[0] == token_2[1]\n",
    "        or token_1[1] == token_2[0] or token_1[1] == token_2[1])"
   ]
  },
  {
   "cell_type": "code",
   "execution_count": 8,
   "metadata": {
    "collapsed": false
   },
   "outputs": [
    {
     "name": "stdout",
     "output_type": "stream",
     "text": [
      "True\n",
      "False\n",
      "True\n"
     ]
    }
   ],
   "source": [
    "print(domino_1((1, 2), (3, 2)))\n",
    "print(domino_1((1, 2), (3, 5)))\n",
    "print(domino_1((1, 2), (3, 1)))"
   ]
  },
  {
   "cell_type": "markdown",
   "metadata": {},
   "source": [
    "b) Escribir una función que indique si dos fichas de dominó encajan o no. Las fichas son recibidas en una cadena, por ejemplo: 3-4 2-5. Nota: utilizar la función split de las cadenas.\n"
   ]
  },
  {
   "cell_type": "code",
   "execution_count": 22,
   "metadata": {
    "collapsed": true
   },
   "outputs": [],
   "source": [
    "#pylint: disable = I0011, c0103\n",
    "\"\"\" DocString\n",
    "\"\"\"\n",
    "\n",
    "def domino_2(token):\n",
    "    \"\"\"\n",
    "b) Escribir una función que indique si dos fichas de dominó encajan o no.\n",
    "Las fichas son recibidas en una cadena, por ejemplo: 3-4 2-5.\n",
    "Nota: utilizar la función split de las cadenas.\n",
    "    \"\"\"\n",
    "    token = token.split()\n",
    "    token_1 = token[0].split(\"-\")\n",
    "    token_2 = token[1].split(\"-\")\n",
    "    return (token_1[0] == token_2[0] or token_1[0] == token_2[1]\n",
    "        or token_1[1] == token_2[0] or token_1[1] == token_2[1]) "
   ]
  },
  {
   "cell_type": "code",
   "execution_count": 23,
   "metadata": {
    "collapsed": false
   },
   "outputs": [
    {
     "name": "stdout",
     "output_type": "stream",
     "text": [
      "True\n",
      "False\n",
      "True\n"
     ]
    }
   ],
   "source": [
    "print(domino_2(\"1-2 3-2\"))\n",
    "print(domino_2(\"1-2 3-5\"))\n",
    "print(domino_2(\"1-2 3-1\"))"
   ]
  },
  {
   "cell_type": "markdown",
   "metadata": {},
   "source": [
    "3.- Campaña electoral"
   ]
  },
  {
   "cell_type": "markdown",
   "metadata": {},
   "source": [
    "a) Escribir una función que reciba una tupla con nombres, y para cada nombre imprima el mensaje \"Estimado [nombre], vote por mí\"."
   ]
  },
  {
   "cell_type": "code",
   "execution_count": 24,
   "metadata": {
    "collapsed": true
   },
   "outputs": [],
   "source": [
    "#pylint: disable = I0011, c0103\n",
    "\"\"\" DocString\n",
    "\"\"\"\n",
    "\n",
    "def campana_1(names):\n",
    "    \"\"\"\n",
    "a) Escribir una función que reciba una tupla con nombres, y para cada \n",
    "nombre imprima el mensaje \"Estimado [nombre], vote por mí\".\n",
    "    \"\"\"\n",
    "    for i in names:\n",
    "        print(\"Estimado %s, vote por mí\" % i)\n"
   ]
  },
  {
   "cell_type": "code",
   "execution_count": 26,
   "metadata": {
    "collapsed": false
   },
   "outputs": [
    {
     "name": "stdout",
     "output_type": "stream",
     "text": [
      "Estimado José, vote por mí\n",
      "Estimado Ango, vote por mí\n",
      "Estimado Juana, vote por mí\n",
      "Estimado Luis, vote por mí\n",
      "Estimado Paco, vote por mí\n"
     ]
    }
   ],
   "source": [
    "campana_1((\"José\", \"Ango\", \"Juana\", \"Luis\", \"Paco\"))"
   ]
  },
  {
   "cell_type": "markdown",
   "metadata": {},
   "source": [
    "b) Escribir una función que reciba una tupla con nombres, una posición de origen p y una cantidad n, e imprima el mensaje anterior para los n nombres que se encuentran a partir de la posición p."
   ]
  },
  {
   "cell_type": "code",
   "execution_count": 35,
   "metadata": {
    "collapsed": true
   },
   "outputs": [],
   "source": [
    "#pylint: disable = I0011, c0103\n",
    "\"\"\" DocString\n",
    "\"\"\"\n",
    "\n",
    "def campana_2(names, pos):\n",
    "    \"\"\"\n",
    "b) Escribir una función que reciba una tupla con nombres, una posición\n",
    "de origen p y una cantidad n, e imprima el mensaje anterior para los n\n",
    "nombres que se encuentran a partir de la posición p.\n",
    "    \"\"\"\n",
    "    for i in range(pos, len(names)):\n",
    "        print(\"Estimado %s, vote por mí\" % names[i])\n"
   ]
  },
  {
   "cell_type": "code",
   "execution_count": 36,
   "metadata": {
    "collapsed": false
   },
   "outputs": [
    {
     "name": "stdout",
     "output_type": "stream",
     "text": [
      "Estimado Juana, vote por mí\n",
      "Estimado Luis, vote por mí\n",
      "Estimado Paco, vote por mí\n"
     ]
    }
   ],
   "source": [
    "campana_2((\"José\", \"Ango\", \"Juana\", \"Luis\", \"Paco\"), 2)"
   ]
  },
  {
   "cell_type": "markdown",
   "metadata": {},
   "source": [
    "c) Modificar las funciones anteriores para que tengan en cuenta el género del destinatario, para ello, deberán recibir una tupla de tuplas, conteniendo el nombre y el género."
   ]
  },
  {
   "cell_type": "code",
   "execution_count": 43,
   "metadata": {
    "collapsed": true
   },
   "outputs": [],
   "source": [
    "#pylint: disable = I0011, c0103\n",
    "\"\"\" DocString\n",
    "\"\"\"\n",
    "\n",
    "def campana_3(names):\n",
    "    \"\"\"\n",
    "c) Modificar las funciones anteriores para que tengan en cuenta el\n",
    "género del destinatario, para ello, deberán recibir una tupla de\n",
    "tuplas, conteniendo el nombre y el género.\n",
    "    \"\"\"\n",
    "    for i in names:\n",
    "        if i[0]==\"H\":\n",
    "            print(\"Estimado %s, vote por mí\" % i[1])\n",
    "        else:\n",
    "            print(\"Estimada %s, vote por mí\" % i[1])\n",
    "\n",
    "def campana_4(names, pos):\n",
    "    \"\"\"\n",
    "c) Modificar las funciones anteriores para que tengan en cuenta el\n",
    "género del destinatario, para ello, deberán recibir una tupla de\n",
    "tuplas, conteniendo el nombre y el género.\n",
    "    \"\"\"\n",
    "    for i in range(pos, len(names)):\n",
    "        if names[i][0]==\"H\":\n",
    "            print(\"Estimado %s, vote por mí\" % names[i][1])\n",
    "        else:\n",
    "            print(\"Estimada %s, vote por mí\" % names[i][1])\n"
   ]
  },
  {
   "cell_type": "code",
   "execution_count": 45,
   "metadata": {
    "collapsed": false
   },
   "outputs": [
    {
     "name": "stdout",
     "output_type": "stream",
     "text": [
      "Estimado José, vote por mí\n",
      "Estimado Ango, vote por mí\n",
      "Estimada Juana, vote por mí\n",
      "Estimado Luis, vote por mí\n",
      "Estimado Paco, vote por mí\n",
      "\n",
      "Estimada Juana, vote por mí\n",
      "Estimado Luis, vote por mí\n",
      "Estimado Paco, vote por mí\n"
     ]
    }
   ],
   "source": [
    "campana_3(((\"H\", \"José\"), (\"H\", \"Ango\"), (\"M\", \"Juana\"), (\"H\", \"Luis\"), (\"H\", \"Paco\")))\n",
    "print()\n",
    "campana_4(((\"H\", \"José\"), (\"H\", \"Ango\"), (\"M\", \"Juana\"), (\"H\", \"Luis\"), (\"H\", \"Paco\")),2)"
   ]
  },
  {
   "cell_type": "markdown",
   "metadata": {},
   "source": [
    "4.- Vectores"
   ]
  },
  {
   "cell_type": "markdown",
   "metadata": {},
   "source": [
    "a) Escribir una función que reciba dos vectores y devuelva su producto escalar."
   ]
  },
  {
   "cell_type": "code",
   "execution_count": 49,
   "metadata": {
    "collapsed": false
   },
   "outputs": [],
   "source": [
    "#pylint: disable = I0011, c0103\n",
    "\"\"\" DocString\n",
    "\"\"\"\n",
    "\n",
    "def scalar(x, y):\n",
    "    \"\"\"\n",
    "    a) Escribir una función que reciba dos vectores y devuelva su producto escalar.\n",
    "    \"\"\"\n",
    "    return (x[0]*y[0]+x[1]*y[1])"
   ]
  },
  {
   "cell_type": "code",
   "execution_count": 50,
   "metadata": {
    "collapsed": false
   },
   "outputs": [
    {
     "name": "stdout",
     "output_type": "stream",
     "text": [
      "14\n"
     ]
    }
   ],
   "source": [
    "print(scalar((1,4), (6,2)))"
   ]
  },
  {
   "cell_type": "markdown",
   "metadata": {},
   "source": [
    "b) Escribir una función que reciba dos vectores y devuelva si son o no ortogonales."
   ]
  },
  {
   "cell_type": "code",
   "execution_count": null,
   "metadata": {
    "collapsed": true
   },
   "outputs": [],
   "source": [
    "#pylint: disable = I0011, c0103\n",
    "\"\"\" DocString\n",
    "\"\"\"\n",
    "\n",
    "def ortogonal(x,y):\n",
    "    \"\"\"\n",
    "    b) Escribir una función que reciba dos vectores y devuelva si son o no ortogonales.    \n",
    "    \"\"\"\n",
    "    if scalar(x,y) == 0:\n",
    "        return True\n",
    "    else:\n",
    "        return False"
   ]
  },
  {
   "cell_type": "markdown",
   "metadata": {},
   "source": [
    "c) Escribir una función que reciba dos vectores y devuelva si son paralelos o no."
   ]
  },
  {
   "cell_type": "code",
   "execution_count": 68,
   "metadata": {
    "collapsed": false
   },
   "outputs": [],
   "source": [
    "#pylint: disable = I0011, c0103\n",
    "\"\"\" DocString\n",
    "\"\"\"\n",
    "\n",
    "def parallel(x,y):\n",
    "    \"\"\"\n",
    "    c) Escribir una función que reciba dos vectores y devuelva si son paralelos o no.\n",
    "    \"\"\"\n",
    "    return (x[0]/y[0]) == (x[1]/y[1])"
   ]
  },
  {
   "cell_type": "code",
   "execution_count": 73,
   "metadata": {
    "collapsed": false
   },
   "outputs": [
    {
     "name": "stdout",
     "output_type": "stream",
     "text": [
      "True\n",
      "False\n"
     ]
    }
   ],
   "source": [
    "print(parallel((4,4), (9,9)))\n",
    "print(parallel((4,4), (9,7)))"
   ]
  },
  {
   "cell_type": "markdown",
   "metadata": {},
   "source": [
    "d) Escribir una función que reciba un vector y devuelva su norma."
   ]
  },
  {
   "cell_type": "code",
   "execution_count": 76,
   "metadata": {
    "collapsed": true
   },
   "outputs": [],
   "source": [
    "#pylint: disable = I0011, c0103\n",
    "\"\"\" DocString\n",
    "\"\"\"\n",
    "\n",
    "def magnitude(x):\n",
    "    \"\"\"\n",
    "    d) Escribir una función que reciba un vector y devuelva su norma.\n",
    "    \"\"\"\n",
    "    return(x[0]*x[0] + x[1]*x[1]) ** (1/2)"
   ]
  },
  {
   "cell_type": "code",
   "execution_count": 77,
   "metadata": {
    "collapsed": false
   },
   "outputs": [
    {
     "name": "stdout",
     "output_type": "stream",
     "text": [
      "2.8284271247461903\n"
     ]
    }
   ],
   "source": [
    "print(magnitude((2,2)))"
   ]
  },
  {
   "cell_type": "markdown",
   "metadata": {},
   "source": [
    "5.- Dada una lista de números enteros, escribir una función que:"
   ]
  },
  {
   "cell_type": "markdown",
   "metadata": {},
   "source": [
    "a) Devuelva una lista con todos los que sean primos."
   ]
  },
  {
   "cell_type": "code",
   "execution_count": 11,
   "metadata": {
    "collapsed": false
   },
   "outputs": [],
   "source": [
    "#pylint: disable = I0011, c0103\n",
    "\n",
    "def prime_list(numbers):\n",
    "    \"\"\"\n",
    "    a) Devuelva una lista con todos los que sean primos.\n",
    "    \"\"\"\n",
    "    def prime(number):\n",
    "        \"\"\"\n",
    "        Returns 'True' if number is prime\n",
    "        \"\"\"\n",
    "        if number == 1 or number == 2:\n",
    "            return True\n",
    "        for i in range(3, int(number**1/2) + 2):\n",
    "            if number % i == 0:\n",
    "                return False\n",
    "        return True\n",
    "    \n",
    "    prime_numbers = []\n",
    "    for num in numbers:\n",
    "        if prime(num):\n",
    "            prime_numbers += [num]\n",
    "    \n",
    "    return prime_numbers\n"
   ]
  },
  {
   "cell_type": "code",
   "execution_count": 12,
   "metadata": {
    "collapsed": false
   },
   "outputs": [
    {
     "name": "stdout",
     "output_type": "stream",
     "text": [
      "[1, 2, 4, 5, 7, 11, 13]\n"
     ]
    }
   ],
   "source": [
    "print(prime_list([1,2,4,5,6,7,8,9,10,11,13]))"
   ]
  },
  {
   "cell_type": "markdown",
   "metadata": {},
   "source": [
    "b) Devuelva la sumatoria y el promedio de los valores."
   ]
  },
  {
   "cell_type": "code",
   "execution_count": 13,
   "metadata": {
    "collapsed": true
   },
   "outputs": [],
   "source": [
    "#pylint: disable = I0011, c0103\n",
    "\n",
    "def sum_average(numbers):\n",
    "    \"\"\"\n",
    "    b) Devuelva la sumatoria y el promedio de los valores.\n",
    "    \"\"\"\n",
    "    sum = 0\n",
    "    for num in numbers:\n",
    "        sum += num\n",
    "    return (sum, sum/len(numbers))"
   ]
  },
  {
   "cell_type": "code",
   "execution_count": 14,
   "metadata": {
    "collapsed": false
   },
   "outputs": [
    {
     "name": "stdout",
     "output_type": "stream",
     "text": [
      "(76, 6.909090909090909)\n"
     ]
    }
   ],
   "source": [
    "print(sum_average([1,2,4,5,6,7,8,9,10,11,13]))"
   ]
  },
  {
   "cell_type": "markdown",
   "metadata": {},
   "source": [
    "c) Devuelva una lista con el factorial de cada uno de esos números."
   ]
  },
  {
   "cell_type": "code",
   "execution_count": 17,
   "metadata": {
    "collapsed": true
   },
   "outputs": [],
   "source": [
    "#pylint: disable = I0011, c0103\n",
    "\n",
    "def fact_list(numbers):\n",
    "    \"\"\"\n",
    "    c) Devuelva una lista con el factorial de cada uno de esos números.\n",
    "    \"\"\"\n",
    "    def fact(number):\n",
    "        \"\"\"\n",
    "        Calculates the factorial of a number\n",
    "        \"\"\"\n",
    "        fact = 1\n",
    "        for num in range(2, number+1):\n",
    "            fact *= num\n",
    "        return fact\n",
    "    \n",
    "    factorial_list = []\n",
    "    for num in numbers:\n",
    "        factorial_list += [fact(num)]\n",
    "    return factorial_list"
   ]
  },
  {
   "cell_type": "code",
   "execution_count": 18,
   "metadata": {
    "collapsed": false
   },
   "outputs": [
    {
     "name": "stdout",
     "output_type": "stream",
     "text": [
      "[1, 2, 24, 120, 720, 5040, 40320, 362880, 3628800, 39916800, 6227020800]\n"
     ]
    }
   ],
   "source": [
    "print(fact_list([1,2,4,5,6,7,8,9,10,11,13]))"
   ]
  },
  {
   "cell_type": "markdown",
   "metadata": {},
   "source": [
    "6.- Dada una lista de números enteros y un entero k, escribir una función que:\n",
    "\n"
   ]
  },
  {
   "cell_type": "markdown",
   "metadata": {},
   "source": [
    "a) Devuelva tres listas, una con los menores, otra con los mayores y otra con los iguales a k.\n",
    "\n"
   ]
  },
  {
   "cell_type": "code",
   "execution_count": 19,
   "metadata": {
    "collapsed": true
   },
   "outputs": [],
   "source": [
    "#pylint: disable = I0011, c0103\n",
    "\n",
    "def k_list(numbers, k):\n",
    "    \"\"\"\n",
    "    a) Devuelva tres listas, una con los menores, otra con los mayores y otra con los iguales a k.\n",
    "    \"\"\"\n",
    "    less = []\n",
    "    equal = []\n",
    "    greater = []\n",
    "    for i in numbers:\n",
    "        if i < k:\n",
    "            less += [i]\n",
    "        elif i == k:\n",
    "            equal += [i]\n",
    "        else:\n",
    "            greater += [i]\n",
    "    return (less, equal, greater)"
   ]
  },
  {
   "cell_type": "code",
   "execution_count": 20,
   "metadata": {
    "collapsed": false
   },
   "outputs": [
    {
     "name": "stdout",
     "output_type": "stream",
     "text": [
      "([1, 2, 4], [5], [6, 7, 8, 9, 10, 11, 13])\n"
     ]
    }
   ],
   "source": [
    "print(k_list([1, 2, 4, 5, 6, 7, 8, 9, 10, 11, 13], 5))"
   ]
  },
  {
   "cell_type": "markdown",
   "metadata": {},
   "source": [
    "b) Devuelva una lista con aquellos que son múltiplos de k."
   ]
  },
  {
   "cell_type": "code",
   "execution_count": null,
   "metadata": {
    "collapsed": true
   },
   "outputs": [],
   "source": [
    "#pylint: disable = I0011, c0103\n",
    "\n",
    "def mul_list(numbers, k):\n",
    "    \"\"\"\n",
    "    b) Devuelva una lista con aquellos que son múltiplos de k.\n",
    "    \"\"\"\n",
    "    multiple = []\n",
    "    for i in numbers:\n",
    "        if i % k == 0:\n",
    "            multiple += [i]\n",
    "    return multiple"
   ]
  },
  {
   "cell_type": "code",
   "execution_count": null,
   "metadata": {
    "collapsed": true
   },
   "outputs": [],
   "source": [
    "print(k_list([1, 2, 4, 5, 6, 7, 8, 9, 10, 11, 13], 5))"
   ]
  },
  {
   "cell_type": "markdown",
   "metadata": {},
   "source": [
    "7.- Escribir una función que reciba una lista de tuplas (Apellido, Nombre, Inicial_segundo_nombre) y devuelva una lista de cadenas donde cada una contenga primero el nombre, luego la inicial con un punto, y luego el apellido.\n",
    "\n"
   ]
  },
  {
   "cell_type": "code",
   "execution_count": 23,
   "metadata": {
    "collapsed": true
   },
   "outputs": [],
   "source": [
    "#pylint: disable = I0011, c0103\n",
    "\n",
    "def namer(names):\n",
    "    \"\"\"\n",
    "    7.- Escribir una función que reciba una lista de tuplas\n",
    "    (Apellido, Nombre, Inicial_segundo_nombre) y devuelva una\n",
    "    lista de cadenas donde cada una contenga primero el nombre,\n",
    "    luego la inicial con un punto, y luego el apellido.\n",
    "    \"\"\"\n",
    "    names_list = list()\n",
    "    for name in names:\n",
    "        names_list += [name[1] + \" \" + name[2] + \". \" + name[0]]\n",
    "    return names_list"
   ]
  },
  {
   "cell_type": "code",
   "execution_count": 24,
   "metadata": {
    "collapsed": false
   },
   "outputs": [
    {
     "name": "stdout",
     "output_type": "stream",
     "text": [
      "['Francisco J. Ávila', 'José A. Gómez', 'José A. Carrasco']\n"
     ]
    }
   ],
   "source": [
    "print(namer([(\"Ávila\",\"Francisco\",\"J\"),(\"Gómez\",\"José\",\"A\"),(\"Carrasco\",\"José\",\"A\")]))"
   ]
  },
  {
   "cell_type": "markdown",
   "metadata": {},
   "source": [
    "8.- Inversión de listas\n",
    "\n"
   ]
  },
  {
   "cell_type": "markdown",
   "metadata": {},
   "source": [
    "a) Realizar una función que, dada una lista, devuelva una nueva lista cuyo contenido sea igual a la original pero invertida. Así, dada la lista ['Di', 'buen', 'día', 'a', 'papa'], deberá devolver ['papa', 'a', 'día', 'buen', 'Di'].\n"
   ]
  },
  {
   "cell_type": "code",
   "execution_count": 26,
   "metadata": {
    "collapsed": false
   },
   "outputs": [],
   "source": [
    "#pylint: disable = I0011, c0103\n",
    "\n",
    "def list_turner_1(words):\n",
    "    \"\"\"\n",
    "    a) Realizar una función que, dada una lista, devuelva una nueva\n",
    "    lista cuyo contenido sea igual a la original pero invertida.\n",
    "    Así, dada la lista ['Di', 'buen', 'día', 'a', 'papa'], deberá\n",
    "    devolver ['papa', 'a', 'día', 'buen', 'Di'].\n",
    "    \"\"\"\n",
    "    turned = list()\n",
    "    for word in words:\n",
    "        turned = [word] + turned\n",
    "    return turned"
   ]
  },
  {
   "cell_type": "code",
   "execution_count": 27,
   "metadata": {
    "collapsed": false
   },
   "outputs": [
    {
     "name": "stdout",
     "output_type": "stream",
     "text": [
      "['papa', 'a', 'día', 'buen', 'Di']\n"
     ]
    }
   ],
   "source": [
    "print(list_turner_1(['Di', 'buen', 'día', 'a', 'papa']))"
   ]
  },
  {
   "cell_type": "markdown",
   "metadata": {},
   "source": [
    "b) Realizar otra función que invierta la lista, pero en lugar de devolver una nueva, modifique la lista dada para invertirla, sin usar listas auxiliares.\n"
   ]
  },
  {
   "cell_type": "code",
   "execution_count": 33,
   "metadata": {
    "collapsed": true
   },
   "outputs": [],
   "source": [
    "#pylint: disable = I0011, c0103\n",
    "\n",
    "def list_turner_2(words):\n",
    "    \"\"\"\n",
    "    b) Realizar otra función que invierta la lista, pero en lugar de\n",
    "    devolver una nueva, modifique la lista dada para invertirla, sin\n",
    "    usar listas auxiliares.\n",
    "    \"\"\"\n",
    "    num_words = len(words)\n",
    "    last_word = num_words - 1\n",
    "    for i in range(num_words//2):\n",
    "        temp = words[i]\n",
    "        words[i] = words[last_word - i]\n",
    "        words[last_word - i] = temp\n",
    "    return words"
   ]
  },
  {
   "cell_type": "code",
   "execution_count": 36,
   "metadata": {
    "collapsed": false
   },
   "outputs": [
    {
     "name": "stdout",
     "output_type": "stream",
     "text": [
      "['papa', 'a', 'día', 'buen', 'Di']\n"
     ]
    }
   ],
   "source": [
    "print(list_turner_2(['Di', 'buen', 'día', 'a', 'papa']))"
   ]
  },
  {
   "cell_type": "markdown",
   "metadata": {},
   "source": [
    "9.- Escribir una función empaquetar para una lista, donde empaquetar significa indicar la repetición de valores consecutivos mediante una tupla (valor, cantidad de repeticiones). Por ejemplo, empaquetar ([1, 1, 1, 3, 5, 1, 1, 3, 3]) debe devolver [(1, 3) , (3, 1) , (5, 1), (1, 2), (3, 2)].\n",
    "\n"
   ]
  },
  {
   "cell_type": "code",
   "execution_count": null,
   "metadata": {
    "collapsed": true
   },
   "outputs": [],
   "source": [
    "#pylint: disable = I0011, c0103\n",
    "\n",
    "def packer(unpacked):\n",
    "    \"\"\"\n",
    "    9.- Escribir una función empaquetar para una lista, donde empaquetar\n",
    "    significa indicar la repetición de valores consecutivos mediante una\n",
    "    tupla(valor, cantidad de repeticiones).\n",
    "    Por ejemplo, empaquetar ([1, 1, 1, 3, 5, 1, 1, 3, 3])\n",
    "    debe devolver [(1, 3) , (3, 1) , (5, 1), (1, 2), (3, 2)].\n",
    "    \"\"\""
   ]
  },
  {
   "cell_type": "markdown",
   "metadata": {},
   "source": [
    "10.- Matrices."
   ]
  },
  {
   "cell_type": "markdown",
   "metadata": {},
   "source": [
    "a) Escribir una función que reciba dos matrices y devuelva la suma.\n"
   ]
  },
  {
   "cell_type": "code",
   "execution_count": null,
   "metadata": {
    "collapsed": true
   },
   "outputs": [],
   "source": []
  },
  {
   "cell_type": "markdown",
   "metadata": {},
   "source": [
    "b) Escribir una función que reciba dos matrices y devuelva el producto.\n"
   ]
  },
  {
   "cell_type": "code",
   "execution_count": null,
   "metadata": {
    "collapsed": true
   },
   "outputs": [],
   "source": []
  },
  {
   "cell_type": "markdown",
   "metadata": {},
   "source": [
    "c) Escribir una función que opere sobre una matriz y mediante eliminación gaussiana devuelva una matriz triangular superior.\n"
   ]
  },
  {
   "cell_type": "code",
   "execution_count": null,
   "metadata": {
    "collapsed": true
   },
   "outputs": [],
   "source": []
  },
  {
   "cell_type": "markdown",
   "metadata": {},
   "source": [
    "d) Escribir una función que indique si un grupo de vectores, recibidos mediante una lista, son linealmente independientes o no.\n"
   ]
  },
  {
   "cell_type": "code",
   "execution_count": null,
   "metadata": {
    "collapsed": true
   },
   "outputs": [],
   "source": []
  },
  {
   "cell_type": "markdown",
   "metadata": {},
   "source": [
    "11.- Plegado de un texto. Escribir una función que reciba un texto y una longitud y devuelva una lista de cadenas de como máximo esa longitud. Las líneas deben ser cortadas correctamente en los espacios (sin cortar las palabras).\n",
    "\n"
   ]
  },
  {
   "cell_type": "code",
   "execution_count": null,
   "metadata": {
    "collapsed": true
   },
   "outputs": [],
   "source": []
  },
  {
   "cell_type": "markdown",
   "metadata": {},
   "source": [
    "12.- Funciones que reciben funciones.\n",
    "\n"
   ]
  },
  {
   "cell_type": "markdown",
   "metadata": {},
   "source": [
    "a) Escribir una funcion llamada map, que reciba una función y una lista y devuelva la lista que resulta de aplicar la función recibida a cada uno de los elementos de la lista recibida.\n"
   ]
  },
  {
   "cell_type": "code",
   "execution_count": null,
   "metadata": {
    "collapsed": true
   },
   "outputs": [],
   "source": []
  },
  {
   "cell_type": "markdown",
   "metadata": {},
   "source": [
    "b) Escribir una función llamada filter, que reciba una función y una lista y devuelva una lista con los elementos de la lista recibida para los cuales la función recibida devuelve un valor verdadero.\n",
    "¿En qué ejercicios de nuestro mundo de código podría haberse utilizado estas funciones?"
   ]
  },
  {
   "cell_type": "code",
   "execution_count": null,
   "metadata": {
    "collapsed": true
   },
   "outputs": [],
   "source": []
  },
  {
   "cell_type": "markdown",
   "metadata": {},
   "source": [
    "13.- Escribir una función que reciba una lista desordenada y un elemento, que:\n"
   ]
  },
  {
   "cell_type": "markdown",
   "metadata": {},
   "source": [
    "a) Busque todos los elementos coincidan con el pasado por parámetro y devuelva la cantidad de coincidencias encontradas.\n"
   ]
  },
  {
   "cell_type": "code",
   "execution_count": null,
   "metadata": {
    "collapsed": true
   },
   "outputs": [],
   "source": []
  },
  {
   "cell_type": "markdown",
   "metadata": {},
   "source": [
    "b) Busque la primera coincidencia del elemento en la lista y devuelva su posición.\n"
   ]
  },
  {
   "cell_type": "code",
   "execution_count": null,
   "metadata": {
    "collapsed": true
   },
   "outputs": [],
   "source": []
  },
  {
   "cell_type": "markdown",
   "metadata": {},
   "source": [
    "c) Utilizando la función anterior, busque todos los elementos coincidan con el pasado por parámetro y devuelva una lista con las posiciones.\n"
   ]
  },
  {
   "cell_type": "code",
   "execution_count": null,
   "metadata": {
    "collapsed": true
   },
   "outputs": [],
   "source": []
  },
  {
   "cell_type": "markdown",
   "metadata": {},
   "source": [
    "14.- Escribir una función que reciba una lista de números no ordenada, que:"
   ]
  },
  {
   "cell_type": "markdown",
   "metadata": {
    "collapsed": true
   },
   "source": [
    "a) Devuelva el valor máximo."
   ]
  },
  {
   "cell_type": "code",
   "execution_count": null,
   "metadata": {
    "collapsed": true
   },
   "outputs": [],
   "source": []
  },
  {
   "cell_type": "markdown",
   "metadata": {
    "collapsed": true
   },
   "source": [
    "b) Devuelva una tupla que incluya el valor máximo y su posición.\n",
    "¿Qué sucede si los elementos son cadenas de caracteres? Nota: no utilizar lista.sort()"
   ]
  },
  {
   "cell_type": "code",
   "execution_count": null,
   "metadata": {
    "collapsed": true
   },
   "outputs": [],
   "source": []
  },
  {
   "cell_type": "markdown",
   "metadata": {},
   "source": [
    "15.- Agenda simplificada. Escribir una función que reciba una cadena a buscar y una lista de tuplas (nombre_completo, telefono), y busque dentro de la lista, todas las entradas que contengan en el nombre completo la cadena recibida (puede ser el nombre, el apellido o sólo una parte de cualquiera de ellos). Debe devolver una lista con todas las tuplas encontradas."
   ]
  },
  {
   "cell_type": "code",
   "execution_count": null,
   "metadata": {
    "collapsed": true
   },
   "outputs": [],
   "source": []
  },
  {
   "cell_type": "markdown",
   "metadata": {},
   "source": [
    "16.- Sistema de facturación simplificado\n",
    "\n",
    "Se cuenta con una lista ordenada de productos, en la que uno consiste en una tupla de (identificador, descripción, precio), y una lista de los productos a facturar, en la que cada uno consiste en una tupla de (identificador, cantidad).\n",
    "\n",
    "Se desea generar una factura que incluya la cantidad, la descripción, el precio unitario y el precio total de cada producto comprado, y al final imprima el total general.\n",
    "\n",
    "Escribir una función que reciba ambas listas e imprima por pantalla la factura solicitada."
   ]
  },
  {
   "cell_type": "code",
   "execution_count": null,
   "metadata": {
    "collapsed": true
   },
   "outputs": [],
   "source": []
  },
  {
   "cell_type": "markdown",
   "metadata": {},
   "source": [
    "17.- Escribir una función que reciba una lista ordenada y un elemento, si el elemento se encuentra en la lista, debe encontrar su posición, mediante búsqueda binaria y devolverlo. Si no se encuentra, debe agregarlo a la lista en la posición correcta y devolver esa nueva posición. (No utilizar lista.sort())"
   ]
  },
  {
   "cell_type": "markdown",
   "metadata": {},
   "source": [
    "18.- Escribir una función que reciba una lista de tuplas, y que devuelva un diccionario en donde las claves sean los primeros elementos de las tuplas, y los valores una lista con los segundos.\n",
    "\n",
    "Por ejemplo:\n",
    "\n",
    "l = [ ('Nola', 'don Pepito'), ('Nola', 'don Jose'), ('Buenos', 'días') ]\n",
    "print tuplas_a_diccionario(l)\n",
    "Deberá mostrar: { 'Nola': ['don Pepito', 'don Jose'], 'Buenos': ['días'] }"
   ]
  },
  {
   "cell_type": "code",
   "execution_count": null,
   "metadata": {
    "collapsed": true
   },
   "outputs": [],
   "source": []
  },
  {
   "cell_type": "markdown",
   "metadata": {},
   "source": [
    "19.- Diccionarios usados para contar."
   ]
  },
  {
   "cell_type": "markdown",
   "metadata": {},
   "source": [
    "a) Escribir una función que reciba una cadena y devuelva un diccionario con la cantidad de apariciones de cada palabra en la cadena. Por ejemplo, si recibe \"Qué lindo día que hace hoy\" debe devolver: 'que': 2, 'lindo': 1, 'día': 1, 'hace': 1, 'hoy': 1\n"
   ]
  },
  {
   "cell_type": "code",
   "execution_count": null,
   "metadata": {
    "collapsed": true
   },
   "outputs": [],
   "source": []
  },
  {
   "cell_type": "markdown",
   "metadata": {},
   "source": [
    "b) Escribir una función que cuente la cantidad de apariciones de cada carácter en una cadena de texto, y los devuelva en un diccionario.\n"
   ]
  },
  {
   "cell_type": "code",
   "execution_count": null,
   "metadata": {
    "collapsed": true
   },
   "outputs": [],
   "source": []
  },
  {
   "cell_type": "markdown",
   "metadata": {},
   "source": [
    "c) Escribir una función que reciba una cantidad de iteraciones de una tirada de 2 dados a realizar y devuelva la cantidad de veces que se observa cada valor de la suma de los dos dados. Nota: utilizar el módulo random para obtener tiradas aleatorias.\n"
   ]
  },
  {
   "cell_type": "code",
   "execution_count": null,
   "metadata": {
    "collapsed": true
   },
   "outputs": [],
   "source": []
  },
  {
   "cell_type": "markdown",
   "metadata": {},
   "source": [
    "20.- Continuación de la agenda.\n",
    "\n",
    "Escribir un programa que vaya solicitando al usuario que ingrese nombres.\n",
    "\n",
    "Si el nombre se encuentra en la agenda (implementada con un diccionario), debe mostrar el teléfono y, opcionalmente, permitir modificarlo si no es correcto.\n",
    "Si el nombre no se encuentra, debe permitir ingresar el teléfono correspondiente. El usuario puede utilizar la cadena \"*\", para salir del programa.\n"
   ]
  },
  {
   "cell_type": "code",
   "execution_count": null,
   "metadata": {
    "collapsed": true
   },
   "outputs": [],
   "source": []
  },
  {
   "cell_type": "markdown",
   "metadata": {},
   "source": [
    "21.- Escribir una función que reciba un texto y para cada caracter presente en el texto devuelva la cadena más larga en la que se encuentra ese caracter."
   ]
  },
  {
   "cell_type": "code",
   "execution_count": null,
   "metadata": {
    "collapsed": true
   },
   "outputs": [],
   "source": []
  }
 ],
 "metadata": {
  "anaconda-cloud": {},
  "kernelspec": {
   "display_name": "Python 3",
   "language": "python",
   "name": "python3"
  },
  "language_info": {
   "codemirror_mode": {
    "name": "ipython",
    "version": 3
   },
   "file_extension": ".py",
   "mimetype": "text/x-python",
   "name": "python",
   "nbconvert_exporter": "python",
   "pygments_lexer": "ipython3",
   "version": "3.5.2"
  }
 },
 "nbformat": 4,
 "nbformat_minor": 1
}
