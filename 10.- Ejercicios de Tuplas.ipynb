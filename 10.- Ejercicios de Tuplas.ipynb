{
 "cells": [
  {
   "cell_type": "markdown",
   "metadata": {},
   "source": [
    "Ejercicio 1\n",
    "===========\n",
    "Revisar un programa previo de la siguiente forma: Leer y analizar las líneas \"From\" y extraer las direcciones de la línea. Contar el número de mensajes de cada persona usando un diccionario.\n",
    "Después de leer todos los datos, crear una lista de tuplas de la forma (contador, correo) desde el diccionario, ordenarla en orden inverso y mostrar la persona con mayor número de envíos.\n"
   ]
  },
  {
   "cell_type": "markdown",
   "metadata": {},
   "source": [
    "Ejercicio 2\n",
    "===========\n",
    "Escribir un programa que cuente la distribución horaria para el conjunto de los mensajes. Se debe extraer la hora desde la línea \"From\" buscando la cadena de tiempos y separándola en partes usando el caracter \":\". Una vez que se hayan acumulado la cuenta para cada hora, visualizar el resultado, una por cada línea, ordenada por hora como se muestra a continuación:\n",
    "\n",
    "Introduzca el nombre el fichero: mbox-short.txt\n",
    "\n",
    "04 3<br>06 1<br>07 1<br>09 2<br>10 3<br>11 6<br>14 1<br>15 2<br>16 4<br>17 2<br>18 1<br>19 1"
   ]
  },
  {
   "cell_type": "markdown",
   "metadata": {},
   "source": [
    "# Ejercicio 3 \n",
    "Escribir un programa que lea un archivo e imprima las letras en orden decreciente de frecuencia de aparición. El programa debería convertir toda la entrada a minúsculas y solo contar las letras a-z (excluir la \"ñ\"). No se debeen contar espacios, dígitos, signos de puntuación o cualquier otro carácter. Buscar textos en diferentes lengua y ver cómo la frecuencia de las letras varían entre lenguajes. Comparar los resultados con las tablas que se puede encontrar en wikipedia.org/wiki/Letter_frequencies."
   ]
  }
 ],
 "metadata": {
  "anaconda-cloud": {},
  "kernelspec": {
   "display_name": "Python [conda root]",
   "language": "python",
   "name": "conda-root-py"
  },
  "language_info": {
   "codemirror_mode": {
    "name": "ipython",
    "version": 3
   },
   "file_extension": ".py",
   "mimetype": "text/x-python",
   "name": "python",
   "nbconvert_exporter": "python",
   "pygments_lexer": "ipython3",
   "version": "3.5.2"
  }
 },
 "nbformat": 4,
 "nbformat_minor": 1
}
