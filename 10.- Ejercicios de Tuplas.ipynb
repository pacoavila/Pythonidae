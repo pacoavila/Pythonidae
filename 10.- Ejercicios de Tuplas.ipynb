{
 "cells": [
  {
   "cell_type": "markdown",
   "metadata": {},
   "source": [
    "Ejercicio 1\n",
    "===========\n",
    "Revisar un programa previo de la siguiente forma: Leer y analizar las líneas \"From\" y extraer las direcciones de la línea. Contar el número de mensajes de cada persona usando un diccionario.\n",
    "Después de leer todos los datos, crear una lista de tuplas de la forma (contador, correo) desde el diccionario, ordenarla en orden inverso y mostrar la persona con mayor número de envíos.\n",
    "\n",
    "Introduzca el nombre del fichero: mbox-short.txt<br>\n",
    "El correo con mayor número de envíos fue cwen@iupui.edu\n"
   ]
  },
  {
   "cell_type": "code",
   "execution_count": null,
   "metadata": {
    "collapsed": false
   },
   "outputs": [],
   "source": [
    "#pylint: disable = i0011, c0103\n",
    "\"\"\"\n",
    "Ejercicio 1\n",
    "Revisar un programa previo de la siguiente forma: Leer y analizar\n",
    "las líneas \"From\" y extraer las direcciones de la línea. Contar el\n",
    "número de mensajes de cada persona usando un diccionario. Después\n",
    "de leer todos los datos, crear una lista de tuplas de la forma\n",
    "(contador, correo) desde el diccionario, ordenarla en orden inverso\n",
    "y mostrar la persona con mayor número de envíos.\n",
    "\"\"\"\n"
   ]
  },
  {
   "cell_type": "markdown",
   "metadata": {},
   "source": [
    "Ejercicio 2\n",
    "===========\n",
    "Escribir un programa que cuente la distribución horaria para el conjunto de los mensajes. Se debe extraer la hora desde la línea \"From\" buscando la cadena de tiempos y separándola en partes usando el caracter \":\". Una vez que se hayan acumulado la cuenta para cada hora, visualizar el resultado, una por cada línea, ordenada por hora como se muestra a continuación:\n",
    "\n",
    "Introduzca el nombre del fichero: mbox-short.txt<br>\n",
    "04 6<br>\n",
    "06 2<br>\n",
    "07 2<br>\n",
    "09 4<br>\n",
    "10 6<br>\n",
    "11 12<br>\n",
    "14 2<br>\n",
    "15 4<br>\n",
    "16 8<br>\n",
    "17 4<br>\n",
    "18 2<br>\n",
    "19 2"
   ]
  },
  {
   "cell_type": "code",
   "execution_count": null,
   "metadata": {
    "collapsed": false
   },
   "outputs": [],
   "source": [
    "#pylint: disable = i0011, c0103\n",
    "\"\"\"\n",
    "Ejercicio 2\n",
    "===========\n",
    "Escribir un programa que cuente la distribución horaria para el conjunto\n",
    "de los mensajes. Se debe extraer la hora desde la línea \"From\" buscando\n",
    "la cadena de tiempos y separándola en partes usando el caracter \":\". Una\n",
    "vez que se hayan acumulado la cuenta para cada hora, visualizar el\n",
    "resultado, una por cada línea, ordenada por hora.\n",
    "\"\"\""
   ]
  },
  {
   "cell_type": "markdown",
   "metadata": {},
   "source": [
    "# Ejercicio 3 \n",
    "Escribir un programa que lea un archivo e imprima las letras en orden decreciente de frecuencia de aparición. El programa debería convertir toda la entrada a minúsculas y solo contar las letras a-z (excluir la \"ñ\"). No se debeen contar espacios, dígitos, signos de puntuación o cualquier otro carácter. Buscar textos en diferentes lenguas y ver cómo la frecuencia de las letras varían entre lenguajes. Comparar los resultados con las tablas que se puede encontrar en wikipedia.org/wiki/Letter_frequencies.\n",
    "\n",
    "Introduzca el nombre del fichero: words.txt<br>\n",
    "o 9.57%<br>\n",
    "e 9.52%<br>\n",
    "t 8.62%<br>\n",
    "n 7.57%<br>\n",
    "a 7.52%<br>\n",
    "r 6.20%<br>\n",
    "s 6.10%<br>\n",
    "i 5.99%<br>\n",
    "u 4.73%<br>\n",
    "l 4.21%<br>\n",
    "h 3.73%<br>\n",
    "m 3.15%<br>\n",
    "d 3.15%<br>\n",
    "w 3.05%<br>\n",
    "g 2.94%<br>\n",
    "p 2.42%<br>\n",
    "c 2.37%<br>\n",
    "f 2.31%<br>\n",
    "y 2.21%<br>\n",
    "k 1.68%<br>\n",
    "v 1.37%<br>\n",
    "b 1.16%<br>\n",
    "x 0.32%<br>\n",
    "q 0.11%<br>"
   ]
  },
  {
   "cell_type": "code",
   "execution_count": null,
   "metadata": {
    "collapsed": false
   },
   "outputs": [],
   "source": [
    "#pylint: disable = i0011, c0103\n",
    "\"\"\"\n",
    "Ejercicio 3\n",
    "===========\n",
    "Escribir un programa que lea un archivo e imprima las letras en orden decreciente de\n",
    "frecuencia de aparición. El programa debería convertir toda la entrada a minúsculas\n",
    "y solo contar las letras a-z (excluir la \"ñ\"). No se debeen contar espacios, dígitos,\n",
    "signos de puntuación o cualquier otro carácter. Buscar textos en diferentes lenguas y\n",
    "ver cómo la frecuencia de las letras varían entre lenguajes. Comparar los resultados\n",
    "con las tablas que se puede encontrar en wikipedia.org/wiki/Letter_frequencies.\n",
    "\"\"\""
   ]
  }
 ],
 "metadata": {
  "anaconda-cloud": {},
  "kernelspec": {
   "display_name": "Python 3",
   "language": "python",
   "name": "python3"
  },
  "language_info": {
   "codemirror_mode": {
    "name": "ipython",
    "version": 3
   },
   "file_extension": ".py",
   "mimetype": "text/x-python",
   "name": "python",
   "nbconvert_exporter": "python",
   "pygments_lexer": "ipython3",
   "version": "3.5.2"
  }
 },
 "nbformat": 4,
 "nbformat_minor": 1
}
