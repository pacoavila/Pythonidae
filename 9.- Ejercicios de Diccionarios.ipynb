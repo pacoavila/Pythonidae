{
 "cells": [
  {
   "cell_type": "markdown",
   "metadata": {},
   "source": [
    "Ejercicio 1\n",
    "===========\n",
    "Escribir un programa que lea las palabras de un fichero words.txt\n",
    "(http://www.pythonlearn.com/code3/words.txt) y las almacene como claves en un\n",
    "diccionario. No importan los valores.\n",
    "Posteriormente leer palabras desde teclado y utilizar el operador <b>in</b> como una\n",
    "forma rápida de comprobar si las palabras están dentro del diccionario o no."
   ]
  },
  {
   "cell_type": "code",
   "execution_count": null,
   "metadata": {
    "collapsed": false
   },
   "outputs": [],
   "source": [
    "#pylint: disable = i0011, c0103\n",
    "\"\"\"\n",
    "Ejercicio 1\n",
    "===========\n",
    "Escribir un programa que lea las palabras de un fichero words.txt\n",
    "(http://www.pythonlearn.com/code3/words.txt) y las almacene como claves en un\n",
    "diccionario. No importan los valores.\n",
    "Posteriormente leer palabras desde teclado y utilizar el operador in como una\n",
    "forma rápida de comprobar si las palabras están dentro del diccionario o no.\n",
    "\"\"\""
   ]
  },
  {
   "cell_type": "markdown",
   "metadata": {},
   "source": [
    "Ejercicio 2\n",
    "===========\n",
    "Escribe un programa que contabilice cada mensaje de correo electrónico\n",
    "por el día de la semana en que se envió. El proceso buscará líneas que\n",
    "comiencen con \"From\" mirarán la tercera palabra de la línea y registrará\n",
    "la cuenta para cada día de la semana. Al final del programa visualizar\n",
    "los totales de cada día.\n",
    "\n",
    "Línea de ejemplo:\n",
    "    From stephen.marquard@uct.ac.za Sat Jan  5 09:14:16 2008\n",
    "\n",
    "Ejemplo de ejecución:\n",
    "\n",
    "Introduzca el nombre del fichero: mbox-short.txt\n",
    "Lunes     :  20\n",
    "Martes    :   6\n",
    "Miércoles :  16\n",
    "Jueves    :  12\n",
    "Viernes   :  33\n",
    "Sábado    : 156\n",
    "Domingo   :  23"
   ]
  },
  {
   "cell_type": "code",
   "execution_count": null,
   "metadata": {
    "collapsed": false,
    "scrolled": true
   },
   "outputs": [],
   "source": [
    "#pylint: disable = i0011, c0103\n",
    "\"\"\"\n",
    "Ejercicio 2\n",
    "===========\n",
    "Escribe un programa que contabilice cada mensaje de correo electrónico\n",
    "por el día de la semana en que se envió. El proceso buscará líneas que\n",
    "comiencen con \"From\" mirarán la tercera palabra de la línea y registrará\n",
    "la cuenta para cada día de la semana. Al final del programa visualizar\n",
    "los totales de cada día.\n",
    "\"\"\""
   ]
  },
  {
   "cell_type": "markdown",
   "metadata": {},
   "source": [
    "Ejercicio 3\n",
    "===========\n",
    "Escribir un programa que lea un log de correo construya un histograma usando\n",
    "un diccionario para contar cuántos mensajes se recibieron de cada dirección\n",
    "de correo electrónico y visualice los resultados.\n",
    "\n",
    "Introduzca el nombre del fichero: mbox-short.txt<br>\n",
    "louis@media.berkeley.edu 6<br>\n",
    "zqian@umich.edu 8<br>\n",
    "david.horwitz@uct.ac.za 8<br>\n",
    "wagnermr@iupui.edu 2<br>\n",
    "gopal.ramasammycook@gmail.com 2<br>\n",
    "antranig@caret.cam.ac.uk 2<br>\n",
    "stephen.marquard@uct.ac.za 4<br>\n",
    "ray@media.berkeley.edu 2<br>\n",
    "gsilver@umich.edu 6<br>\n",
    "cwen@iupui.edu 10<br>\n",
    "rjlowe@iupui.edu 4<br>"
   ]
  },
  {
   "cell_type": "code",
   "execution_count": null,
   "metadata": {
    "collapsed": false
   },
   "outputs": [],
   "source": [
    "#pylint: disable = i0011, c0103\n",
    "\"\"\"\n",
    "Ejercicio 3\n",
    "===========\n",
    "Escribir un programa que lea un log de correo construya un histograma usando\n",
    "un diccionario para contar cuántos mensajes se recibieron de cada dirección\n",
    "de correo electrónico y visualice los resultados.\n",
    "\"\"\"        "
   ]
  },
  {
   "cell_type": "markdown",
   "metadata": {},
   "source": [
    "Ejercicio 4\n",
    "===========\n",
    "Añadir código al programa anterior para averiguar quién tiene más mensajes en\n",
    "el fichero.\n",
    "Después de leer todos los datos y esté creado el diccionario buscar a través\n",
    "del diccionario usando un bucle máximo (ver la sección [https://books.trinket.io/pfe/05-iterations.html] maximumloop) para\n",
    "encontrar quién tiene más mensajes y mostrar en pantalla cuántos mensajes\n",
    "tenía esa persona.\n",
    "\n",
    "Introduzca el nombre del fichero: mbox-short.txt\n",
    "cwen@iupui.edu 10\n",
    "\n",
    "Introduzca el nombre del fichero: mbox.txt\n",
    "zqian@umich.edu 390"
   ]
  },
  {
   "cell_type": "code",
   "execution_count": null,
   "metadata": {
    "collapsed": false
   },
   "outputs": [],
   "source": [
    "#pylint: disable = i0011, c0103\n",
    "\"\"\"\n",
    "Ejercicio 4\n",
    "===========\n",
    "Añadir código al programa anterior para averiguar quién tiene más mensajes en\n",
    "el fichero.\n",
    "Después de leer todos los datos y esté creado el diccionario buscar a través\n",
    "del diccionario usando un bucle máximo (ver la sección maximumloop\n",
    "[https://books.trinket.io/pfe/05-iterations.html])\n",
    "para encontrar quién tiene más mensajes y mostrar en pantalla cuántos mensajes\n",
    "tenía esa persona.\n",
    "\"\"\""
   ]
  },
  {
   "cell_type": "markdown",
   "metadata": {},
   "source": [
    "Ejercicio 5\n",
    "===========\n",
    "En esta ocasión hay que registrar el nombre de dominio (en lugar de la\n",
    "dirección), es decir, desde dónde se enviaron los mensajes en lugar de\n",
    "de quién vino. Al final mostrar el contenido del diccionario.\n",
    "\n",
    "Introduzca el nombre del fichero: mbox-short.txt\n",
    "iupui.edu 16<br>\n",
    "gmail.com 2<br>\n",
    "uct.ac.za 12<br>\n",
    "media.berkeley.edu 8<br>\n",
    "caret.cam.ac.uk 2<br>\n",
    "umich.edu 14"
   ]
  },
  {
   "cell_type": "code",
   "execution_count": null,
   "metadata": {
    "collapsed": false
   },
   "outputs": [],
   "source": [
    "#pylint: disable = i0011, c0103\n",
    "\"\"\"\n",
    "Ejercicio 5\n",
    "===========\n",
    "En esta ocasión hay que registrar el nombre de dominio (en lugar de la\n",
    "dirección), es decir, desde dónde se enviaron los mensajes en lugar de\n",
    "de quién vino. Al final mostrar el contenido del diccionario.\n",
    "\"\"\"\n",
    "try:\n",
    "    fhandle = open(input(\"Introduzca el nombre del fichero: \"))\n",
    "except IOError:\n",
    "    print(\"El fichero no existe\")\n",
    "    exit()\n",
    "domains = dict()\n",
    "for line in fhandle:\n",
    "    if line.startswith(\"From \"):\n",
    "        domain = line.split()[1].split(\"@\")[1]\n",
    "        domains[domain] = domains.get(domain,0) + 1\n",
    "for line in domains:\n",
    "    print(line, domains[line])\n"
   ]
  }
 ],
 "metadata": {
  "anaconda-cloud": {},
  "kernelspec": {
   "display_name": "Python 3",
   "language": "python",
   "name": "python3"
  },
  "language_info": {
   "codemirror_mode": {
    "name": "ipython",
    "version": 3
   },
   "file_extension": ".py",
   "mimetype": "text/x-python",
   "name": "python",
   "nbconvert_exporter": "python",
   "pygments_lexer": "ipython3",
   "version": "3.5.2"
  }
 },
 "nbformat": 4,
 "nbformat_minor": 1
}
