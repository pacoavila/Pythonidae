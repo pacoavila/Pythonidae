{
 "cells": [
  {
   "cell_type": "markdown",
   "metadata": {},
   "source": [
    "Ejercicio 1\n",
    "===========\n",
    "Revisar un programa previo de la siguiente forma: Leer y analizar las líneas \"From\" y extraer las direcciones de la línea. Contar el número de mensajes de cada persona usando un diccionario.\n",
    "Después de leer todos los datos, crear una lista de tuplas de la forma (contador, correo) desde el diccionario, ordenarla en orden inverso y mostrar la persona con mayor número de envíos.\n"
   ]
  },
  {
   "cell_type": "code",
   "execution_count": null,
   "metadata": {
    "collapsed": false
   },
   "outputs": [],
   "source": [
    "#pylint: disable = i0011, c0103\n",
    "\"\"\"\n",
    "Ejercicio 1\n",
    "Revisar un programa previo de la siguiente forma: Leer y analizar\n",
    "las líneas \"From\" y extraer las direcciones de la línea. Contar el\n",
    "número de mensajes de cada persona usando un diccionario. Después\n",
    "de leer todos los datos, crear una lista de tuplas de la forma\n",
    "(contador, correo) desde el diccionario, ordenarla en orden inverso\n",
    "y mostrar la persona con mayor número de envíos.\n",
    "\"\"\"\n",
    "try:\n",
    "    fhandle = open(input(\"Introduzca el nombre del fichero: \"))\n",
    "except IOError:\n",
    "    print(\"El fichero no existe\")\n",
    "    exit()\n",
    "mails = dict()\n",
    "for line in fhandle:\n",
    "    if line.startswith(\"From \"):\n",
    "        line = line.split()\n",
    "        mails[line[1]] = mails.get(line[1],0) + 1\n",
    "mails_list = []\n",
    "for mail, count in list(mails.items()):\n",
    "    mails_list += [(count, mail)]\n",
    "mails_list.sort(reverse=True)\n",
    "print(\"El correo con mayor número de envíos fue\", mails_list[0][1])"
   ]
  },
  {
   "cell_type": "markdown",
   "metadata": {},
   "source": [
    "Ejercicio 2\n",
    "===========\n",
    "Escribir un programa que cuente la distribución horaria para el conjunto de los mensajes. Se debe extraer la hora desde la línea \"From\" buscando la cadena de tiempos y separándola en partes usando el caracter \":\". Una vez que se hayan acumulado la cuenta para cada hora, visualizar el resultado, una por cada línea, ordenada por hora como se muestra a continuación:\n",
    "\n",
    "Introduzca el nombre del fichero: mbox-short.txt<br>\n",
    "04 6<br>\n",
    "06 2<br>\n",
    "07 2<br>\n",
    "09 4<br>\n",
    "10 6<br>\n",
    "11 12<br>\n",
    "14 2<br>\n",
    "15 4<br>\n",
    "16 8<br>\n",
    "17 4<br>\n",
    "18 2<br>\n",
    "19 2"
   ]
  },
  {
   "cell_type": "code",
   "execution_count": null,
   "metadata": {
    "collapsed": false
   },
   "outputs": [],
   "source": [
    "#pylint: disable = i0011, c0103\n",
    "\"\"\"\n",
    "Ejercicio 2\n",
    "===========\n",
    "Escribir un programa que cuente la distribución horaria para el conjunto\n",
    "de los mensajes. Se debe extraer la hora desde la línea \"From\" buscando\n",
    "la cadena de tiempos y separándola en partes usando el caracter \":\". Una\n",
    "vez que se hayan acumulado la cuenta para cada hora, visualizar el\n",
    "resultado, una por cada línea, ordenada por hora.\n",
    "\"\"\"\n",
    "try:\n",
    "    fhandle = open(input(\"Introduzca el nombre del fichero: \"))\n",
    "except IOError:\n",
    "    print(\"El fichero no existe\")\n",
    "    exit()\n",
    "time = dict()\n",
    "for line in fhandle:\n",
    "    if line.startswith(\"From \"):\n",
    "        hour = line.split()[5].split(\":\")[0]\n",
    "        time[hour] = time.get(hour, 0) + 1\n",
    "hours_list = []\n",
    "for hour, count in list(time.items()):\n",
    "    hours_list += [(hour, count)]\n",
    "hours_list.sort()\n",
    "for hour, count in hours_list:\n",
    "    print(hour, count)\n"
   ]
  },
  {
   "cell_type": "markdown",
   "metadata": {},
   "source": [
    "# Ejercicio 3 \n",
    "Escribir un programa que lea un archivo e imprima las letras en orden decreciente de frecuencia de aparición. El programa debería convertir toda la entrada a minúsculas y solo contar las letras a-z (excluir la \"ñ\"). No se debeen contar espacios, dígitos, signos de puntuación o cualquier otro carácter. Buscar textos en diferentes lenguas y ver cómo la frecuencia de las letras varían entre lenguajes. Comparar los resultados con las tablas que se puede encontrar en wikipedia.org/wiki/Letter_frequencies."
   ]
  },
  {
   "cell_type": "code",
   "execution_count": 27,
   "metadata": {
    "collapsed": false
   },
   "outputs": [
    {
     "name": "stdout",
     "output_type": "stream",
     "text": [
      "Introduzca el nombre del fichero: words.txt\n",
      "o 9.57%\n",
      "e 9.52%\n",
      "t 8.62%\n",
      "n 7.57%\n",
      "a 7.52%\n",
      "r 6.20%\n",
      "s 6.10%\n",
      "i 5.99%\n",
      "u 4.73%\n",
      "l 4.21%\n",
      "h 3.73%\n",
      "m 3.15%\n",
      "d 3.15%\n",
      "w 3.05%\n",
      "g 2.94%\n",
      "p 2.42%\n",
      "c 2.37%\n",
      "f 2.31%\n",
      "y 2.21%\n",
      "k 1.68%\n",
      "v 1.37%\n",
      "b 1.16%\n",
      "x 0.32%\n",
      "q 0.11%\n"
     ]
    }
   ],
   "source": [
    "#pylint: disable = i0011, c0103\n",
    "\"\"\"\n",
    "Ejercicio 3\n",
    "===========\n",
    "Escribir un programa que lea un archivo e imprima las letras en orden decreciente de\n",
    "frecuencia de aparición. El programa debería convertir toda la entrada a minúsculas\n",
    "y solo contar las letras a-z (excluir la \"ñ\"). No se debeen contar espacios, dígitos,\n",
    "signos de puntuación o cualquier otro carácter. Buscar textos en diferentes lenguas y\n",
    "ver cómo la frecuencia de las letras varían entre lenguajes. Comparar los resultados\n",
    "con las tablas que se puede encontrar en wikipedia.org/wiki/Letter_frequencies.\n",
    "\"\"\"\n",
    "import string\n",
    "try:\n",
    "    fhandle = open(input(\"Introduzca el nombre del fichero: \"))\n",
    "except IOError:\n",
    "    print(\"El fichero no existe\")\n",
    "    exit()\n",
    "full_string = fhandle.read()\n",
    "alphabet = dict()\n",
    "for letter in full_string:\n",
    "    letter = letter.lower()\n",
    "    if letter in string.ascii_lowercase:\n",
    "        alphabet[letter] = alphabet.get(letter, 0) + 1\n",
    "total = 0\n",
    "ordered_list = []\n",
    "for key, value in alphabet.items():  \n",
    "    total += alphabet[key]\n",
    "    ordered_list += [(value, key)]\n",
    "ordered_list.sort(reverse=True)\n",
    "for tupla in ordered_list:\n",
    "    print(\"%s %.2f%%\" % (tupla[1], tupla[0]*100/total))\n",
    "    \n"
   ]
  }
 ],
 "metadata": {
  "anaconda-cloud": {},
  "kernelspec": {
   "display_name": "Python 3",
   "language": "python",
   "name": "python3"
  },
  "language_info": {
   "codemirror_mode": {
    "name": "ipython",
    "version": 3
   },
   "file_extension": ".py",
   "mimetype": "text/x-python",
   "name": "python",
   "nbconvert_exporter": "python",
   "pygments_lexer": "ipython3",
   "version": "3.5.2"
  }
 },
 "nbformat": 4,
 "nbformat_minor": 1
}
