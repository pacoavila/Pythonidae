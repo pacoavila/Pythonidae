{
 "cells": [
  {
   "cell_type": "markdown",
   "metadata": {},
   "source": [
    "Ejercicio 1\n",
    "===========\n",
    "Escribir un programa que lea las palabras de un fichero words.txt\n",
    "(http://www.pythonlearn.com/code3/words.txt) y las almacene como claves en un\n",
    "diccionario. No importan los valores.\n",
    "Posteriormente leer palabras desde teclado y utilizar el operador <b>in</b> como una\n",
    "forma rápida de comprobar si las palabras están dentro del diccionario o no."
   ]
  },
  {
   "cell_type": "code",
   "execution_count": 2,
   "metadata": {
    "collapsed": false
   },
   "outputs": [
    {
     "name": "stdout",
     "output_type": "stream",
     "text": [
      "Introduzca una palabra (* para fin): *\n"
     ]
    }
   ],
   "source": [
    "\n",
    "#pylint: disable = i0011, c0103\n",
    "\n",
    "\"\"\"\n",
    "Ejercicio 1\n",
    "===========\n",
    "Escribir un programa que lea las palabras de un fichero words.txt\n",
    "(http://www.pythonlearn.com/code3/words.txt) y las almacene como claves en un\n",
    "diccionario. No importan los valores.\n",
    "Posteriormente leer palabras desde teclado y utilizar el operador in como una\n",
    "forma rápida de comprobar si las palabras están dentro del diccionario o no.\n",
    "\"\"\"\n",
    "\n",
    "try:\n",
    "    fhandle = open(\"words.txt\")\n",
    "except IOError:\n",
    "    print(\"El fichero no existe\")\n",
    "    exit()\n",
    "text = fhandle.read()\n",
    "word_list = text.split()\n",
    "dictionary = dict()\n",
    "for word in word_list:\n",
    "    dictionary[word] = dictionary.get(word, 0) + 1\n",
    "\n",
    "while True:\n",
    "    word = input(\"Introduzca una palabra (* para fin): \")\n",
    "    if word == \"*\":\n",
    "        fhandle.close()\n",
    "        break\n",
    "    if word in dictionary:\n",
    "        print(\"La palabra %s SÍ está en el texto\" % word)\n",
    "    else:\n",
    "        print(\"La palabra %s NO está en el texto\" % word)\n",
    "\n"
   ]
  },
  {
   "cell_type": "markdown",
   "metadata": {},
   "source": [
    "Ejercicio 2\n",
    "===========\n",
    "Escribe un programa que contabilice cada mensaje de correo electrónico\n",
    "por el día de la semana en que se envió. El proceso buscará líneas que\n",
    "comiencen con \"From\" mirarán la tercera palabra de la línea y resgistrará\n",
    "la cuenta para cada día de la semana. Al final del programa visualizar\n",
    "el contenido los totales de cada día.\n",
    "\n",
    "Línea de ejemplo:\n",
    "    From stephen.marquard@uct.ac.za Sat Jan  5 09:14:16 2008\n",
    "\n",
    "Ejemplo de ejecución:\n",
    "\n",
    "Introduzca el nombre del fichero: mbox-short.txt\n",
    "Lunes     :  20\n",
    "Martes    :   6\n",
    "Miércoles :  16\n",
    "Jueves    :  12\n",
    "Viernes   :  33\n",
    "Sábado    : 156\n",
    "Domingo   :  23"
   ]
  },
  {
   "cell_type": "code",
   "execution_count": null,
   "metadata": {
    "collapsed": false,
    "scrolled": true
   },
   "outputs": [],
   "source": [
    "try:\n",
    "    fhandle = open(input(\"Introduzca el nombre del fichero: \"))\n",
    "except IOError:\n",
    "    print(\"El fichero no existe\")\n",
    "    exit()\n",
    "days_of_the_week = dict()\n",
    "for line in fhandle:\n",
    "    if line.startswith(\"From \"):\n",
    "        day = line.split()[2]\n",
    "        days_of_the_week[day] = days_of_the_week.get(day, 0) + 1\n",
    "day_es = [\"Lunes    \", \"Martes   \", \"Miércoles\", \"Jueves   \"\n",
    "          , \"Viernes  \", \"Sábado   \", \"Domingo  \"]\n",
    "day_en = [\"Mon\", \"Tue\", \"Wed\", \"Thu\", \"Fri\", \"Sat\", \"Sun\"]\n",
    "for day in range(7):\n",
    "    if day_en[day] in days_of_the_week:\n",
    "        print(\"%s : %3d\" % (day_es[day], days_of_the_week[day_en[day]]))\n"
   ]
  },
  {
   "cell_type": "markdown",
   "metadata": {},
   "source": [
    "Ejercicio 3\n",
    "===========\n",
    "Escribir un programa que lea un log de correo construya un histograma usando\n",
    "un diccionario para contar cuántos mensajes se recibieron de cada dirección\n",
    "de correo electrónico y visualice los resultados.\n",
    "\n",
    "Introduzca el nombre del fichero: mbox-short.txt\n",
    "\n",
    "gopal.ramasammycook@gmail.com : 1\n",
    "louis@media.berkeley.edu : 3\n",
    "cwen@iupui.edu : 5\n",
    "antranig@caret.cam.ac.uk : 1\n",
    "rjlowe@iupui.edu: 2\n",
    "gsilver@umich.edu: 3\n",
    "david.horwitz@uct.ac.za: 4\n",
    "wagnermr@iupui.edu: 1\n",
    "zqian@umich.edu: 4\n",
    "stephen.marquard@uct.ac.za: 2\n",
    "ray@media.berkeley.edu: 1"
   ]
  },
  {
   "cell_type": "markdown",
   "metadata": {},
   "source": [
    "Ejercicio 3\n",
    "===========\n",
    "Escribir un programa que lea un log de correo construya un histograma usando\n",
    "un diccionario para contar cuántos mensajes se recibieron de cada dirección\n",
    "de correo electrónico y visualice los resultados.\n",
    "\n",
    "Introduzca el nombre del fichero: mbox-short.txt\n",
    "\n",
    "gopal.ramasammycook@gmail.com : 1\n",
    "louis@media.berkeley.edu : 3\n",
    "cwen@iupui.edu : 5\n",
    "antranig@caret.cam.ac.uk : 1\n",
    "rjlowe@iupui.edu: 2\n",
    "gsilver@umich.edu: 3\n",
    "david.horwitz@uct.ac.za: 4\n",
    "wagnermr@iupui.edu: 1\n",
    "zqian@umich.edu: 4\n",
    "stephen.marquard@uct.ac.za: 2\n",
    "ray@media.berkeley.edu: 1\n",
    "\"\"\""
   ]
  },
  {
   "cell_type": "markdown",
   "metadata": {},
   "source": [
    "Ejercicio 4\n",
    "===========\n",
    "Añadir código al programa anterior para averiguar quién tiene más mensajes en\n",
    "el fichero.\n",
    "Después de leer todos los datos y esté creado el diccionario buscar a través\n",
    "del diccionario usando un bucle máximo (ver la sección [maximumloop]) para\n",
    "encontrar quién tiene más mensajes y mostrar en pantalla cuántos mensajes\n",
    "tenía esa persona.\n",
    "\n",
    "Introduzca el nombre del fichero: mbox-short.txt\n",
    "cwen@iupui.edu 5\n",
    "\n",
    "Introduzca el nombre del fichero: mbox.txt\n",
    "zqian@umich.edu 195"
   ]
  },
  {
   "cell_type": "code",
   "execution_count": null,
   "metadata": {
    "collapsed": true
   },
   "outputs": [],
   "source": []
  },
  {
   "cell_type": "markdown",
   "metadata": {},
   "source": [
    "Ejercicio 5\n",
    "===========\n",
    "En esta ocasión hay que registrar el nombre de dominio (en lugar de la\n",
    "direción) desde dónde los mensajes se enviaron en lugar de de quién vino el\n",
    "mensaje.\n",
    "\n",
    "This program records the domain name (instead of the address) where the\n",
    "message was sent from instead of who the mail came from (i.e. the whole\n",
    "email address).\n",
    " At the end of the program print out the contents of your dictionary.\n",
    "\n",
    "Introduzca el nombre del fichero: mbox-short.txt\n",
    "media.berkeley.edu: 4\n",
    "uct.ac.za: 6\n",
    "umich.edu: 7\n",
    "gmail.com: 1\n",
    "caret.cam.ac.uk: 1 iupui.edu: 8}"
   ]
  },
  {
   "cell_type": "code",
   "execution_count": null,
   "metadata": {
    "collapsed": true
   },
   "outputs": [],
   "source": []
  }
 ],
 "metadata": {
  "anaconda-cloud": {},
  "kernelspec": {
   "display_name": "Python 3",
   "language": "python",
   "name": "python3"
  },
  "language_info": {
   "codemirror_mode": {
    "name": "ipython",
    "version": 3
   },
   "file_extension": ".py",
   "mimetype": "text/x-python",
   "name": "python",
   "nbconvert_exporter": "python",
   "pygments_lexer": "ipython3",
   "version": "3.5.2"
  }
 },
 "nbformat": 4,
 "nbformat_minor": 1
}
