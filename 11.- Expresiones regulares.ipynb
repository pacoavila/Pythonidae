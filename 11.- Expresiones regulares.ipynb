{
 "cells": [
  {
   "cell_type": "markdown",
   "metadata": {},
   "source": [
    "# 11.- Expresiones regulares\n",
    "## Búsqueda de números en un pajar<br> "
   ]
  },
  {
   "cell_type": "markdown",
   "metadata": {},
   "source": [
    "\n",
    "\n",
    "En esta tarea se debe leer y analizar un fichero de texto y números. Habrá que extraer todos los números del archivo y calcular la suma de los mismos.\n",
    "El archivo a procesar se puede encontrar en: http://python-data.dr-chuck.net/regex_sum_42.txt (hay 87 valores con una suma igual a 445822). Habrá que asegurarse de guardar el archivo en la misma carpeta donde reside el programa Python. \n",
    "El archivo contiene gran parte del texto de introducción a la programación pero también cuenta con una cierta cantidad de números aleatorios insertados en él. A modo de ejemplo:\n",
    "\n",
    "<I>Why should you learn to write programs? 7746<br>\n",
    "12 1929 8827<br>\n",
    "Writing programs (or programming) is a very creative <br>\n",
    "7 and rewarding activity.  You can write programs for <br>\n",
    "many reasons, ranging from making your living to solving<br>\n",
    "8837 a difficult data analysis problem to having fun to helping 128<br>\n",
    "someone else solve a problem.  This book assumes that <br>\n",
    "everyone needs to know how to program ...</I><br><br>\n",
    "La suma para el texto del ejemplo anterior es 27486. Los números pueden aparecer en cualquier lugar de una línea. Puede haber cualquier cantidad de números en cada línea (incluso ninguno).<br>\n",
    "El esquema básico de este problema es leer el archivo, buscar números enteros utilizando la función re.findall(), buscando una expresión regular de ' [0-9] +' y luego convertir las cadenas extraídas a enteros y sumarlos. "
   ]
  },
  {
   "cell_type": "code",
   "execution_count": null,
   "metadata": {
    "collapsed": true
   },
   "outputs": [],
   "source": []
  },
  {
   "cell_type": "markdown",
   "metadata": {},
   "source": [
    "<b>Exercise 1:</b> Escribir un programa sencillo que simule la operativa del comando grep de Unix. Pedir al usuario que introduzca una expresión regular y cuente el número de lineas que coinciden con la REGEX:<br>\n",
    "\n",
    "\n",
    "\\$ python grep.py<br> \n",
    "Enter a regular expression: ^Author<br>\n",
    "mbox.txt had 1798 lines that matched ^Author<br>\n",
    "<br></p>\n",
    "\\$ python grep.py<br>\n",
    "Enter a regular expression: ^X-<br>\n",
    "mbox.txt had 14368 lines that matched ^X-<br>\n",
    "<br>\n",
    "\\$ python grep.py<br>\n",
    "Enter a regular expression: java\\$<br>\n",
    "mbox.txt had 4218 lines that matched java\\$<br>\n"
   ]
  },
  {
   "cell_type": "code",
   "execution_count": null,
   "metadata": {
    "collapsed": true
   },
   "outputs": [],
   "source": []
  },
  {
   "cell_type": "markdown",
   "metadata": {},
   "source": [
    "<b>Exercise 2:</b> Escribir un programa que busque líneas de la forma <br>\n",
    "`New Revision: 39772`\n",
    "y extraiga el número de cada una de ellas usando una expresión regula y el método findall(). Calc\n",
    "and extract the number from each of the lines using a regular expression and the findall() method. Compute the average of the numbers and print out the average.\n",
    "Enter file:mbox.txt\n",
    "38549.7949721\n",
    "\n",
    "Enter file:mbox-short.txt\n",
    "39756.9259259"
   ]
  },
  {
   "cell_type": "code",
   "execution_count": null,
   "metadata": {
    "collapsed": true
   },
   "outputs": [],
   "source": []
  }
 ],
 "metadata": {
  "kernelspec": {
   "display_name": "Python 3",
   "language": "python",
   "name": "python3"
  },
  "language_info": {
   "codemirror_mode": {
    "name": "ipython",
    "version": 3
   },
   "file_extension": ".py",
   "mimetype": "text/x-python",
   "name": "python",
   "nbconvert_exporter": "python",
   "pygments_lexer": "ipython3",
   "version": "3.5.2"
  }
 },
 "nbformat": 4,
 "nbformat_minor": 1
}
